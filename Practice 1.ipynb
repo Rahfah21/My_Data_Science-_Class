{
 "cells": [
  {
   "cell_type": "markdown",
   "id": "c2eadfa8",
   "metadata": {},
   "source": [
    "# Introduction "
   ]
  },
  {
   "cell_type": "code",
   "execution_count": null,
   "id": "ab95fc6a",
   "metadata": {},
   "outputs": [],
   "source": [
    "print('hello')"
   ]
  },
  {
   "cell_type": "markdown",
   "id": "36cfd58f",
   "metadata": {},
   "source": [
    "# hello"
   ]
  },
  {
   "cell_type": "code",
   "execution_count": 2,
   "id": "c01f8399",
   "metadata": {},
   "outputs": [
    {
     "name": "stdout",
     "output_type": "stream",
     "text": [
      "Hello World\n"
     ]
    }
   ],
   "source": [
    "print(\"Hello World\")"
   ]
  },
  {
   "cell_type": "markdown",
   "id": "fea3fdc3",
   "metadata": {},
   "source": [
    "##### Python Indentation \n",
    "Indentation refer to the spaces at the beginning of a code line.\n",
    "<br>\n",
    "Example"
   ]
  },
  {
   "cell_type": "code",
   "execution_count": 3,
   "id": "22146676",
   "metadata": {},
   "outputs": [
    {
     "name": "stdout",
     "output_type": "stream",
     "text": [
      "five is greater than two!\n"
     ]
    }
   ],
   "source": [
    "if 5 > 2:\n",
    "    print('five is greater than two!')"
   ]
  },
  {
   "cell_type": "code",
   "execution_count": 6,
   "id": "4c594c4b",
   "metadata": {},
   "outputs": [
    {
     "name": "stdout",
     "output_type": "stream",
     "text": [
      "Five is greater than two!\n",
      "Five is greater than two!\n"
     ]
    }
   ],
   "source": [
    "if 5>2:\n",
    "    print(\"Five is greater than two!\")\n",
    "if 5>2:\n",
    "    print(\"Five is greater than two!\")"
   ]
  },
  {
   "cell_type": "markdown",
   "id": "1446d9f8",
   "metadata": {},
   "source": [
    "#### Python Variables\n",
    "Variables are created when you assign a value to it.\n",
    "<br>\n",
    "Examples"
   ]
  },
  {
   "cell_type": "code",
   "execution_count": 7,
   "id": "8992f0f2",
   "metadata": {},
   "outputs": [],
   "source": [
    "x=5\n",
    "y=\"Hello World\""
   ]
  },
  {
   "cell_type": "code",
   "execution_count": 9,
   "id": "ae84f2fb",
   "metadata": {},
   "outputs": [
    {
     "name": "stdout",
     "output_type": "stream",
     "text": [
      "5\n",
      "Hello World\n"
     ]
    }
   ],
   "source": [
    "print(x)\n",
    "print(y)"
   ]
  },
  {
   "cell_type": "markdown",
   "id": "74998ce7",
   "metadata": {},
   "source": [
    "#### Comments\n",
    "python has commenting capability for the purpose of in-code documentation.\n",
    "<br>\n",
    "Comments start with a # and python will render the rest of the line as a comment.\n",
    "<br>\n",
    "Commnets can be used to explain python code.\n",
    "<br>\n",
    "Example\n",
    "<br>\n",
    "Comments in python:"
   ]
  },
  {
   "cell_type": "code",
   "execution_count": 10,
   "id": "88ab682c",
   "metadata": {},
   "outputs": [
    {
     "name": "stdout",
     "output_type": "stream",
     "text": [
      "Hello World\n"
     ]
    }
   ],
   "source": [
    "# This is a comment\n",
    "print(\"Hello World\")"
   ]
  },
  {
   "cell_type": "code",
   "execution_count": 11,
   "id": "5831083e",
   "metadata": {},
   "outputs": [
    {
     "name": "stdout",
     "output_type": "stream",
     "text": [
      "This is my bag\n"
     ]
    }
   ],
   "source": [
    "print(\"This is my bag\") # This is a comment"
   ]
  },
  {
   "cell_type": "code",
   "execution_count": 13,
   "id": "dfde85b6",
   "metadata": {},
   "outputs": [
    {
     "name": "stdout",
     "output_type": "stream",
     "text": [
      "Cheers Mate!\n"
     ]
    }
   ],
   "source": [
    "#print(\"Hello World\")\n",
    "print (\"Cheers Mate!\")"
   ]
  },
  {
   "cell_type": "code",
   "execution_count": null,
   "id": "66a3111a",
   "metadata": {},
   "outputs": [],
   "source": []
  },
  {
   "cell_type": "code",
   "execution_count": 14,
   "id": "35fcf458",
   "metadata": {},
   "outputs": [
    {
     "name": "stdout",
     "output_type": "stream",
     "text": [
      "Hello World\n"
     ]
    }
   ],
   "source": [
    "# THis is a comment\n",
    "#written in \n",
    "#More than just one line\n",
    "print(\"Hello World\")"
   ]
  },
  {
   "cell_type": "code",
   "execution_count": 15,
   "id": "0fd97181",
   "metadata": {
    "scrolled": true
   },
   "outputs": [
    {
     "name": "stdout",
     "output_type": "stream",
     "text": [
      "Hello World\n"
     ]
    }
   ],
   "source": [
    "\"\"\"\n",
    "This is a comment\n",
    "written in\n",
    "more than just one line\n",
    "\"\"\"\n",
    "print(\"Hello World\")"
   ]
  },
  {
   "cell_type": "markdown",
   "id": "5421a752",
   "metadata": {},
   "source": [
    "### Variables\n",
    "Variables are containers for storing dat values."
   ]
  },
  {
   "cell_type": "code",
   "execution_count": 17,
   "id": "df9173af",
   "metadata": {},
   "outputs": [
    {
     "name": "stdout",
     "output_type": "stream",
     "text": [
      "5\n",
      "john\n"
     ]
    }
   ],
   "source": [
    "x=5\n",
    "y=\"john\"\n",
    "print(x)\n",
    "print(y)"
   ]
  },
  {
   "cell_type": "code",
   "execution_count": 19,
   "id": "cad24cb1",
   "metadata": {},
   "outputs": [
    {
     "name": "stdout",
     "output_type": "stream",
     "text": [
      "5\n"
     ]
    }
   ],
   "source": [
    "x=5 # x is of type int\n",
    "y=\"John\" # y is now of type str\n",
    "print(x)"
   ]
  },
  {
   "cell_type": "markdown",
   "id": "ec48f4f4",
   "metadata": {},
   "source": [
    "### Casting\n",
    "If you want to specify the data type of a variable, this can be done with casting"
   ]
  },
  {
   "cell_type": "code",
   "execution_count": 21,
   "id": "1377fa7e",
   "metadata": {},
   "outputs": [
    {
     "name": "stdout",
     "output_type": "stream",
     "text": [
      "5 3 3.0\n"
     ]
    }
   ],
   "source": [
    "x= str(5)      # x will be '5'\n",
    "y= int(3)      # y will be  3\n",
    "z= float(3)    # z will be 3.0\n",
    "print(x,y,z)"
   ]
  },
  {
   "cell_type": "markdown",
   "id": "22b1fa5a",
   "metadata": {},
   "source": [
    "### Get the Type\n",
    "you can get the data type of a variable with the type() function."
   ]
  },
  {
   "cell_type": "code",
   "execution_count": 22,
   "id": "936b101f",
   "metadata": {},
   "outputs": [
    {
     "name": "stdout",
     "output_type": "stream",
     "text": [
      "<class 'int'>\n",
      "<class 'str'>\n"
     ]
    }
   ],
   "source": [
    "x= 5\n",
    "y = \"John\"\n",
    "print(type(x))\n",
    "print(type(y))"
   ]
  },
  {
   "cell_type": "markdown",
   "id": "cf988851",
   "metadata": {},
   "source": [
    "### Variable Names\n",
    " legal variable names"
   ]
  },
  {
   "cell_type": "code",
   "execution_count": 23,
   "id": "28aa8f85",
   "metadata": {},
   "outputs": [],
   "source": [
    "myvar = \"John\"\n",
    "my_var = \"John\"\n",
    "_my_var = \"John\"\n",
    "myVar = \"John\"\n",
    "MYVAR = \"John\"\n",
    "myvar2 = \"John\""
   ]
  },
  {
   "cell_type": "markdown",
   "id": "b678527d",
   "metadata": {},
   "source": [
    "###### Illegal Variable names "
   ]
  },
  {
   "cell_type": "code",
   "execution_count": 24,
   "id": "41d9b2f2",
   "metadata": {},
   "outputs": [
    {
     "ename": "SyntaxError",
     "evalue": "invalid decimal literal (2185399839.py, line 1)",
     "output_type": "error",
     "traceback": [
      "\u001b[1;36m  Cell \u001b[1;32mIn[24], line 1\u001b[1;36m\u001b[0m\n\u001b[1;33m    2myvar = \"John\"\u001b[0m\n\u001b[1;37m    ^\u001b[0m\n\u001b[1;31mSyntaxError\u001b[0m\u001b[1;31m:\u001b[0m invalid decimal literal\n"
     ]
    }
   ],
   "source": [
    "2myvar = \"John\"\n",
    "my-var = \"John\"\n",
    "my var = \"John\""
   ]
  },
  {
   "cell_type": "markdown",
   "id": "546cd392",
   "metadata": {},
   "source": [
    "### Camel Case \n",
    "Each word, except the first, start with a capital letter:"
   ]
  },
  {
   "cell_type": "code",
   "execution_count": 25,
   "id": "4f53b046",
   "metadata": {},
   "outputs": [],
   "source": [
    "myVariableName = \"John\""
   ]
  },
  {
   "cell_type": "markdown",
   "id": "96eae445",
   "metadata": {},
   "source": [
    "### Pascal Case\n",
    "Each word starts with a capital letter:"
   ]
  },
  {
   "cell_type": "code",
   "execution_count": 26,
   "id": "8306ff2e",
   "metadata": {},
   "outputs": [],
   "source": [
    "MyVariableName = \"John\""
   ]
  },
  {
   "cell_type": "markdown",
   "id": "ea3103ac",
   "metadata": {},
   "source": [
    "### Snake Case\n",
    "Each word is seperated by an underscore character:"
   ]
  },
  {
   "cell_type": "code",
   "execution_count": 27,
   "id": "6ea0f6c5",
   "metadata": {},
   "outputs": [],
   "source": [
    "my_variable_name = \"John\""
   ]
  },
  {
   "cell_type": "markdown",
   "id": "16b6989b",
   "metadata": {},
   "source": [
    "### Many Values to Multiple Variables\n",
    "Python allows you to assign values to multiole variables in one line:"
   ]
  },
  {
   "cell_type": "code",
   "execution_count": 29,
   "id": "9b702b9d",
   "metadata": {},
   "outputs": [
    {
     "name": "stdout",
     "output_type": "stream",
     "text": [
      "Orange\n",
      "Banana\n",
      "Cherry\n"
     ]
    }
   ],
   "source": [
    "x,y,z = \"Orange\", \"Banana\", \"Cherry\"\n",
    "print(x)\n",
    "print(y)\n",
    "print(z)"
   ]
  },
  {
   "cell_type": "code",
   "execution_count": 30,
   "id": "41c5381f",
   "metadata": {},
   "outputs": [
    {
     "name": "stdout",
     "output_type": "stream",
     "text": [
      "orange\n",
      "orange\n",
      "orange\n"
     ]
    }
   ],
   "source": [
    "x=y=z= \"orange\"\n",
    "print(x)\n",
    "print(y)\n",
    "print(z)"
   ]
  },
  {
   "cell_type": "markdown",
   "id": "c5524bde",
   "metadata": {},
   "source": [
    "### Unpack a Collection\n",
    "If you have a collection of values in a list, tuple etc. python allows you to extract the values into variables. this is called unpacking.\n",
    "<br>\n",
    "Example\n",
    "<br>\n",
    "Unpack a list:"
   ]
  },
  {
   "cell_type": "code",
   "execution_count": 33,
   "id": "5ceba07b",
   "metadata": {},
   "outputs": [
    {
     "name": "stdout",
     "output_type": "stream",
     "text": [
      "apple\n",
      "banana\n",
      "cherry\n"
     ]
    }
   ],
   "source": [
    "Fruits = [\"apple\", \"banana\", \"cherry\"]\n",
    "x,y,z = Fruits\n",
    "print(x)\n",
    "print(y)\n",
    "print(z)"
   ]
  },
  {
   "cell_type": "markdown",
   "id": "8dc3663b",
   "metadata": {},
   "source": [
    "### Output Variables\n",
    "The python print() function is often used to output variables:"
   ]
  },
  {
   "cell_type": "code",
   "execution_count": 34,
   "id": "e2682bfc",
   "metadata": {},
   "outputs": [
    {
     "name": "stdout",
     "output_type": "stream",
     "text": [
      "Python is awesome\n"
     ]
    }
   ],
   "source": [
    "x = \"Python is awesome\"\n",
    "print(x)"
   ]
  },
  {
   "cell_type": "code",
   "execution_count": 37,
   "id": "6f57b5e1",
   "metadata": {},
   "outputs": [
    {
     "name": "stdout",
     "output_type": "stream",
     "text": [
      "Python is Awesome\n"
     ]
    }
   ],
   "source": [
    "x= \"Python\"\n",
    "y = \"is\"\n",
    "z = \"Awesome\"\n",
    "print(x,y,z)"
   ]
  },
  {
   "cell_type": "code",
   "execution_count": 40,
   "id": "5df9ef58",
   "metadata": {},
   "outputs": [
    {
     "name": "stdout",
     "output_type": "stream",
     "text": [
      "PythonisAwesome\n"
     ]
    }
   ],
   "source": [
    "print(x + y + z)"
   ]
  },
  {
   "cell_type": "code",
   "execution_count": 41,
   "id": "94b69e72",
   "metadata": {},
   "outputs": [
    {
     "name": "stdout",
     "output_type": "stream",
     "text": [
      "15\n"
     ]
    }
   ],
   "source": [
    "x=5\n",
    "y=10\n",
    "print(x+y)"
   ]
  },
  {
   "cell_type": "code",
   "execution_count": 43,
   "id": "504e6ce8",
   "metadata": {},
   "outputs": [
    {
     "ename": "TypeError",
     "evalue": "unsupported operand type(s) for +: 'int' and 'str'",
     "output_type": "error",
     "traceback": [
      "\u001b[1;31m---------------------------------------------------------------------------\u001b[0m",
      "\u001b[1;31mTypeError\u001b[0m                                 Traceback (most recent call last)",
      "Cell \u001b[1;32mIn[43], line 3\u001b[0m\n\u001b[0;32m      1\u001b[0m x\u001b[38;5;241m=\u001b[39m \u001b[38;5;241m5\u001b[39m\n\u001b[0;32m      2\u001b[0m y \u001b[38;5;241m=\u001b[39m \u001b[38;5;124m\"\u001b[39m\u001b[38;5;124mJohn\u001b[39m\u001b[38;5;124m\"\u001b[39m\n\u001b[1;32m----> 3\u001b[0m \u001b[38;5;28mprint\u001b[39m(x\u001b[38;5;241m+\u001b[39my)\n",
      "\u001b[1;31mTypeError\u001b[0m: unsupported operand type(s) for +: 'int' and 'str'"
     ]
    }
   ],
   "source": [
    "x= 5\n",
    "y = \"John\"\n",
    "print(x+y)"
   ]
  },
  {
   "cell_type": "code",
   "execution_count": 44,
   "id": "906eb3de",
   "metadata": {},
   "outputs": [
    {
     "name": "stdout",
     "output_type": "stream",
     "text": [
      "5 John\n"
     ]
    }
   ],
   "source": [
    "print(x,y)"
   ]
  },
  {
   "cell_type": "code",
   "execution_count": null,
   "id": "27225ec0",
   "metadata": {},
   "outputs": [
    {
     "ename": "",
     "evalue": "",
     "output_type": "error",
     "traceback": [
      "\u001b[1;31mRunning cells with 'Python 3.12.0' requires the ipykernel package.\n",
      "\u001b[1;31mRun the following command to install 'ipykernel' into the Python environment. \n",
      "\u001b[1;31mCommand: 'c:/Users/USER/AppData/Local/Programs/Python/Python312/python.exe -m pip install ipykernel -U --user --force-reinstall'"
     ]
    }
   ],
   "source": [
    "print(\"Class\")"
   ]
  },
  {
   "cell_type": "code",
   "execution_count": 4,
   "id": "c555ac4f",
   "metadata": {},
   "outputs": [
    {
     "data": {
      "text/plain": [
       "35"
      ]
     },
     "execution_count": 4,
     "metadata": {},
     "output_type": "execute_result"
    }
   ],
   "source": [
    "7*5"
   ]
  },
  {
   "cell_type": "code",
   "execution_count": null,
   "id": "2eecee0f",
   "metadata": {},
   "outputs": [],
   "source": [
    "print(\"x\")"
   ]
  },
  {
   "cell_type": "code",
   "execution_count": 1,
   "id": "5fe0281c",
   "metadata": {},
   "outputs": [
    {
     "name": "stdout",
     "output_type": "stream",
     "text": [
      "x\n"
     ]
    }
   ],
   "source": [
    "print(\"x\")"
   ]
  }
 ],
 "metadata": {
  "kernelspec": {
   "display_name": "Python 3 (ipykernel)",
   "language": "python",
   "name": "python3"
  },
  "language_info": {
   "codemirror_mode": {
    "name": "ipython",
    "version": 3
   },
   "file_extension": ".py",
   "mimetype": "text/x-python",
   "name": "python",
   "nbconvert_exporter": "python",
   "pygments_lexer": "ipython3",
   "version": "3.11.5"
  }
 },
 "nbformat": 4,
 "nbformat_minor": 5
}
