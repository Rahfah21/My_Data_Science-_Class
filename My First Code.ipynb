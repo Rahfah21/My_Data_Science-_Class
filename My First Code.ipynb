{
 "cells": [
  {
   "cell_type": "code",
   "execution_count": 1,
   "id": "2c500eef",
   "metadata": {},
   "outputs": [
    {
     "name": "stdout",
     "output_type": "stream",
     "text": [
      "Hello\n"
     ]
    }
   ],
   "source": [
    "print(\"Hello\")"
   ]
  },
  {
   "cell_type": "code",
   "execution_count": 2,
   "id": "0b8cde01",
   "metadata": {},
   "outputs": [
    {
     "name": "stdout",
     "output_type": "stream",
     "text": [
      "Lawal Ganiyat Ayomide\n"
     ]
    }
   ],
   "source": [
    "print(\"Lawal Ganiyat Ayomide\")"
   ]
  },
  {
   "cell_type": "markdown",
   "id": "f3f61040",
   "metadata": {},
   "source": [
    "# This is Ganiyah"
   ]
  },
  {
   "cell_type": "markdown",
   "id": "bf6a6f31",
   "metadata": {},
   "source": [
    "###### This is a comment\n",
    "- this is point one"
   ]
  },
  {
   "cell_type": "code",
   "execution_count": null,
   "id": "d78daa2d",
   "metadata": {},
   "outputs": [],
   "source": []
  },
  {
   "cell_type": "code",
   "execution_count": null,
   "id": "a1c8e37f",
   "metadata": {},
   "outputs": [],
   "source": []
  },
  {
   "cell_type": "code",
   "execution_count": null,
   "id": "bb15e4c7",
   "metadata": {},
   "outputs": [],
   "source": []
  }
 ],
 "metadata": {
  "kernelspec": {
   "display_name": "Python 3 (ipykernel)",
   "language": "python",
   "name": "python3"
  },
  "language_info": {
   "codemirror_mode": {
    "name": "ipython",
    "version": 3
   },
   "file_extension": ".py",
   "mimetype": "text/x-python",
   "name": "python",
   "nbconvert_exporter": "python",
   "pygments_lexer": "ipython3",
   "version": "3.11.5"
  }
 },
 "nbformat": 4,
 "nbformat_minor": 5
}
