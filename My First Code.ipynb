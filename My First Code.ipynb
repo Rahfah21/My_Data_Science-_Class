{
 "cells": [
  {
   "cell_type": "code",
   "execution_count": 1,
   "id": "2c500eef",
   "metadata": {},
   "outputs": [
    {
     "name": "stdout",
     "output_type": "stream",
     "text": [
      "Hello\n"
     ]
    }
   ],
   "source": [
    "print(\"Hello\")"
   ]
  },
  {
   "cell_type": "code",
   "execution_count": 2,
   "id": "0b8cde01",
   "metadata": {},
   "outputs": [
    {
     "name": "stdout",
     "output_type": "stream",
     "text": [
      "Lawal Ganiyat Ayomide\n"
     ]
    }
   ],
   "source": [
    "print(\"Lawal Ganiyat Ayomide\")"
   ]
  },
  {
   "cell_type": "markdown",
   "id": "f3f61040",
   "metadata": {},
   "source": [
    "# This is Ganiyah"
   ]
  },
  {
   "cell_type": "markdown",
   "id": "bf6a6f31",
   "metadata": {},
   "source": [
    "###### This is a comment\n",
    "- this is point one"
   ]
  },
  {
   "cell_type": "code",
   "execution_count": 1,
   "id": "d78daa2d",
   "metadata": {},
   "outputs": [
    {
     "data": {
      "text/plain": [
       "20"
      ]
     },
     "execution_count": 1,
     "metadata": {},
     "output_type": "execute_result"
    }
   ],
   "source": [
    "5*4"
   ]
  },
  {
   "cell_type": "code",
   "execution_count": 2,
   "id": "a1c8e37f",
   "metadata": {},
   "outputs": [
    {
     "name": "stdout",
     "output_type": "stream",
     "text": [
      "x\n"
     ]
    }
   ],
   "source": [
    "print(\"x\")"
   ]
  },
  {
   "cell_type": "code",
   "execution_count": 3,
   "id": "bb15e4c7",
   "metadata": {},
   "outputs": [
    {
     "name": "stdout",
     "output_type": "stream",
     "text": [
      "Hello\n"
     ]
    }
   ],
   "source": [
    "print(\"Hello\")"
   ]
  },
  {
   "cell_type": "code",
   "execution_count": 4,
   "id": "d731eb01",
   "metadata": {},
   "outputs": [],
   "source": [
    "import pandas as pd"
   ]
  },
  {
   "cell_type": "code",
   "execution_count": 5,
   "id": "d3d23228",
   "metadata": {},
   "outputs": [],
   "source": [
    "import numpy as np"
   ]
  },
  {
   "cell_type": "code",
   "execution_count": 6,
   "id": "70ad2fdd",
   "metadata": {},
   "outputs": [],
   "source": [
    "import matplotlib.pyplot as plt"
   ]
  },
  {
   "cell_type": "code",
   "execution_count": 7,
   "id": "b5cd7882",
   "metadata": {},
   "outputs": [
    {
     "data": {
      "text/plain": [
       "array([0, 1, 2, 3, 4])"
      ]
     },
     "execution_count": 7,
     "metadata": {},
     "output_type": "execute_result"
    }
   ],
   "source": [
    "np.arange(5)"
   ]
  },
  {
   "cell_type": "code",
   "execution_count": 8,
   "id": "4ca69646",
   "metadata": {},
   "outputs": [
    {
     "data": {
      "text/plain": [
       "array([0.71181216, 0.31945747, 0.35027399, 0.84678086, 0.90446126])"
      ]
     },
     "execution_count": 8,
     "metadata": {},
     "output_type": "execute_result"
    }
   ],
   "source": [
    "np.random.random(5)"
   ]
  },
  {
   "cell_type": "code",
   "execution_count": 10,
   "id": "9b0d90e8",
   "metadata": {},
   "outputs": [
    {
     "name": "stdout",
     "output_type": "stream",
     "text": [
      "The mean of the variable is {mean}\n"
     ]
    }
   ],
   "source": [
    "import numpy as np\n",
    "mean=round(np.mean((4,5,6,7,8)))\n",
    "print('The mean of the variable is {mean}')"
   ]
  },
  {
   "cell_type": "code",
   "execution_count": 6,
   "id": "260152d2",
   "metadata": {},
   "outputs": [
    {
     "data": {
      "text/plain": [
       "2.0"
      ]
     },
     "execution_count": 6,
     "metadata": {},
     "output_type": "execute_result"
    }
   ],
   "source": [
    "np.var((4,5,6,7,8))"
   ]
  },
  {
   "cell_type": "code",
   "execution_count": 9,
   "id": "bcb034b5",
   "metadata": {},
   "outputs": [
    {
     "data": {
      "text/plain": [
       "1.41"
      ]
     },
     "execution_count": 9,
     "metadata": {},
     "output_type": "execute_result"
    }
   ],
   "source": [
    "round(np.std((4,5,6,7,8)),2)"
   ]
  },
  {
   "cell_type": "code",
   "execution_count": 1,
   "id": "e4848076",
   "metadata": {},
   "outputs": [],
   "source": [
    "name = [\"Rahfah\"]"
   ]
  },
  {
   "cell_type": "code",
   "execution_count": 2,
   "id": "9a793a8a",
   "metadata": {},
   "outputs": [],
   "source": [
    "name.extend(name)"
   ]
  },
  {
   "cell_type": "code",
   "execution_count": 3,
   "id": "e15fa6f2",
   "metadata": {},
   "outputs": [],
   "source": [
    "name.extend(['Rahfah'])"
   ]
  },
  {
   "cell_type": "code",
   "execution_count": 11,
   "id": "fe2e0fe4",
   "metadata": {},
   "outputs": [],
   "source": [
    "name[0] = name[0] + \"Aliu\""
   ]
  },
  {
   "cell_type": "code",
   "execution_count": 24,
   "id": "fd164613",
   "metadata": {},
   "outputs": [
    {
     "data": {
      "text/plain": [
       "['RahfahAliu Aliu AliuAliuAliu', 'Rahfah', 'Rahfah']"
      ]
     },
     "execution_count": 24,
     "metadata": {},
     "output_type": "execute_result"
    }
   ],
   "source": [
    "name"
   ]
  },
  {
   "cell_type": "code",
   "execution_count": 13,
   "id": "15237ba4",
   "metadata": {},
   "outputs": [],
   "source": [
    "list1= [1,2,3,4]"
   ]
  },
  {
   "cell_type": "code",
   "execution_count": 15,
   "id": "5f5faeef",
   "metadata": {},
   "outputs": [],
   "source": [
    "Tuple =(1,2,3,4)"
   ]
  },
  {
   "cell_type": "code",
   "execution_count": 16,
   "id": "6ef47660",
   "metadata": {},
   "outputs": [],
   "source": [
    "list3 = [1,2,3,4]\n",
    "list4 = [6,8,7,4]"
   ]
  },
  {
   "cell_type": "code",
   "execution_count": 17,
   "id": "20f9a29c",
   "metadata": {},
   "outputs": [],
   "source": [
    "list3.append(list4)"
   ]
  },
  {
   "cell_type": "code",
   "execution_count": 18,
   "id": "8f85d077",
   "metadata": {},
   "outputs": [
    {
     "data": {
      "text/plain": [
       "[1, 2, 3, 4, [6, 8, 7, 4]]"
      ]
     },
     "execution_count": 18,
     "metadata": {},
     "output_type": "execute_result"
    }
   ],
   "source": [
    "list3"
   ]
  },
  {
   "cell_type": "code",
   "execution_count": 19,
   "id": "8475e71a",
   "metadata": {},
   "outputs": [],
   "source": [
    "list3.append(list4)"
   ]
  },
  {
   "cell_type": "code",
   "execution_count": 20,
   "id": "e461b9b6",
   "metadata": {},
   "outputs": [
    {
     "data": {
      "text/plain": [
       "[1, 2, 3, 4, [6, 8, 7, 4], [6, 8, 7, 4]]"
      ]
     },
     "execution_count": 20,
     "metadata": {},
     "output_type": "execute_result"
    }
   ],
   "source": [
    "list3"
   ]
  },
  {
   "cell_type": "code",
   "execution_count": 22,
   "id": "443ecfdd",
   "metadata": {},
   "outputs": [
    {
     "data": {
      "text/plain": [
       "[1, 2, 3, 4, [6, 8, 7, 4], [6, 8, 7, 4], [6, 8, 7, 4], 2]"
      ]
     },
     "execution_count": 22,
     "metadata": {},
     "output_type": "execute_result"
    }
   ],
   "source": [
    "list3.append(2)\n",
    "list3"
   ]
  },
  {
   "cell_type": "code",
   "execution_count": null,
   "id": "2726b595",
   "metadata": {},
   "outputs": [],
   "source": []
  },
  {
   "cell_type": "code",
   "execution_count": null,
   "id": "1b52d41f",
   "metadata": {},
   "outputs": [],
   "source": []
  },
  {
   "cell_type": "code",
   "execution_count": null,
   "id": "487e4d74",
   "metadata": {},
   "outputs": [],
   "source": []
  },
  {
   "cell_type": "code",
   "execution_count": null,
   "id": "20fe5674",
   "metadata": {},
   "outputs": [],
   "source": []
  },
  {
   "cell_type": "code",
   "execution_count": null,
   "id": "e8770478",
   "metadata": {},
   "outputs": [],
   "source": []
  },
  {
   "cell_type": "code",
   "execution_count": null,
   "id": "a640cadf",
   "metadata": {},
   "outputs": [],
   "source": []
  },
  {
   "cell_type": "code",
   "execution_count": null,
   "id": "27855dfa",
   "metadata": {},
   "outputs": [],
   "source": []
  },
  {
   "cell_type": "code",
   "execution_count": null,
   "id": "1a02d26b",
   "metadata": {},
   "outputs": [],
   "source": []
  },
  {
   "cell_type": "code",
   "execution_count": null,
   "id": "5b5421d7",
   "metadata": {},
   "outputs": [],
   "source": []
  }
 ],
 "metadata": {
  "kernelspec": {
   "display_name": "Python 3 (ipykernel)",
   "language": "python",
   "name": "python3"
  },
  "language_info": {
   "codemirror_mode": {
    "name": "ipython",
    "version": 3
   },
   "file_extension": ".py",
   "mimetype": "text/x-python",
   "name": "python",
   "nbconvert_exporter": "python",
   "pygments_lexer": "ipython3",
   "version": "3.11.5"
  }
 },
 "nbformat": 4,
 "nbformat_minor": 5
}
