{
 "cells": [
  {
   "cell_type": "markdown",
   "id": "ec2c0e9e",
   "metadata": {},
   "source": [
    "# Create 4 Variables"
   ]
  },
  {
   "cell_type": "markdown",
   "id": "189ad055",
   "metadata": {},
   "source": [
    "## Data Types\n",
    "### Integer\n",
    "### Float\n",
    "### String\n",
    "### Boolean"
   ]
  },
  {
   "cell_type": "code",
   "execution_count": 110,
   "id": "90dccbd2",
   "metadata": {},
   "outputs": [],
   "source": [
    "w=4\n",
    "x=3.13\n",
    "y=True\n",
    "z='a'"
   ]
  },
  {
   "cell_type": "code",
   "execution_count": 111,
   "id": "1b7929df",
   "metadata": {},
   "outputs": [
    {
     "data": {
      "text/plain": [
       "'a'"
      ]
     },
     "execution_count": 111,
     "metadata": {},
     "output_type": "execute_result"
    }
   ],
   "source": [
    "z"
   ]
  },
  {
   "cell_type": "code",
   "execution_count": 112,
   "id": "b82f2722",
   "metadata": {},
   "outputs": [],
   "source": [
    "name=[]"
   ]
  },
  {
   "cell_type": "code",
   "execution_count": 113,
   "id": "fdb65681",
   "metadata": {},
   "outputs": [],
   "source": [
    "name.append(z)"
   ]
  },
  {
   "cell_type": "code",
   "execution_count": 114,
   "id": "7140cdb3",
   "metadata": {},
   "outputs": [
    {
     "data": {
      "text/plain": [
       "['a']"
      ]
     },
     "execution_count": 114,
     "metadata": {},
     "output_type": "execute_result"
    }
   ],
   "source": [
    "name"
   ]
  },
  {
   "cell_type": "code",
   "execution_count": 115,
   "id": "ddee94b0",
   "metadata": {},
   "outputs": [],
   "source": [
    "mine=x+w"
   ]
  },
  {
   "cell_type": "code",
   "execution_count": 116,
   "id": "8136fc29",
   "metadata": {},
   "outputs": [
    {
     "data": {
      "text/plain": [
       "7.13"
      ]
     },
     "execution_count": 116,
     "metadata": {},
     "output_type": "execute_result"
    }
   ],
   "source": [
    "mine"
   ]
  },
  {
   "cell_type": "code",
   "execution_count": 117,
   "id": "e626d7e9",
   "metadata": {},
   "outputs": [],
   "source": [
    "name.append(mine)"
   ]
  },
  {
   "cell_type": "code",
   "execution_count": 118,
   "id": "66ba7657",
   "metadata": {},
   "outputs": [
    {
     "data": {
      "text/plain": [
       "1"
      ]
     },
     "execution_count": 118,
     "metadata": {},
     "output_type": "execute_result"
    }
   ],
   "source": [
    "int(y)"
   ]
  },
  {
   "cell_type": "code",
   "execution_count": 119,
   "id": "9adfc285",
   "metadata": {},
   "outputs": [
    {
     "data": {
      "text/plain": [
       "1.0"
      ]
     },
     "execution_count": 119,
     "metadata": {},
     "output_type": "execute_result"
    }
   ],
   "source": [
    "float(y)"
   ]
  },
  {
   "cell_type": "code",
   "execution_count": 120,
   "id": "3f8a355f",
   "metadata": {},
   "outputs": [],
   "source": [
    "name.append(y)"
   ]
  },
  {
   "cell_type": "code",
   "execution_count": 121,
   "id": "26f95893",
   "metadata": {},
   "outputs": [
    {
     "data": {
      "text/plain": [
       "3"
      ]
     },
     "execution_count": 121,
     "metadata": {},
     "output_type": "execute_result"
    }
   ],
   "source": [
    "len(name)"
   ]
  },
  {
   "cell_type": "markdown",
   "id": "801352bb",
   "metadata": {},
   "source": [
    "## List"
   ]
  },
  {
   "cell_type": "code",
   "execution_count": 122,
   "id": "af4e2f7f",
   "metadata": {},
   "outputs": [],
   "source": [
    "west=[\"Osun\",\"Ogun\",\"Ekiti\",\"Ondo\",\"Sokoto\"]\n",
    "North=[\"Kano\",\"Yola\",\"Jalimgo\",\"Maiduguri\"]\n",
    "East=[\"Enugu\", \"abia\",\"Delta\",\"Rivers\"]"
   ]
  },
  {
   "cell_type": "code",
   "execution_count": 123,
   "id": "bb3d54c7",
   "metadata": {},
   "outputs": [],
   "source": [
    "west[4]= \"Lagos\""
   ]
  },
  {
   "cell_type": "code",
   "execution_count": 124,
   "id": "a299778c",
   "metadata": {},
   "outputs": [
    {
     "data": {
      "text/plain": [
       "['Osun', 'Ogun', 'Ekiti', 'Ondo', 'Lagos']"
      ]
     },
     "execution_count": 124,
     "metadata": {},
     "output_type": "execute_result"
    }
   ],
   "source": [
    "west"
   ]
  },
  {
   "cell_type": "markdown",
   "id": "ca5b84f4",
   "metadata": {},
   "source": [
    "## Create a Dictionary"
   ]
  },
  {
   "cell_type": "code",
   "execution_count": 125,
   "id": "7987e61b",
   "metadata": {},
   "outputs": [],
   "source": [
    "school= {}"
   ]
  },
  {
   "cell_type": "markdown",
   "id": "73c78834",
   "metadata": {},
   "source": [
    "## List Created to Tuple"
   ]
  },
  {
   "cell_type": "code",
   "execution_count": 126,
   "id": "1c096ed4",
   "metadata": {},
   "outputs": [
    {
     "name": "stdout",
     "output_type": "stream",
     "text": [
      "(['Osun', 'Ogun', 'Ekiti', 'Ondo', 'Lagos'], ['Kano', 'Yola', 'Jalimgo', 'Maiduguri'], ['Enugu', 'abia', 'Delta', 'Rivers'])\n"
     ]
    }
   ],
   "source": [
    "tuple(west)\n",
    "tuple(North)\n",
    "tuple(East)\n",
    "print((west, North,East))"
   ]
  },
  {
   "cell_type": "markdown",
   "id": "4581e156",
   "metadata": {},
   "source": [
    "## Create a dictionary and append the list to it"
   ]
  },
  {
   "cell_type": "code",
   "execution_count": 127,
   "id": "96fc1962",
   "metadata": {},
   "outputs": [],
   "source": [
    "Nigeria = {'west':[\"Osun\",\"Ogun\",\"Ekiti\",\"Ondo\",\"Sokoto\"],\n",
    "'North':[\"Kano\",\"Yola\",\"Jalimgo\",\"Maiduguri\"],\n",
    "'East':[\"Enugu\", \"abia\",\"Delta\",\"Rivers\"]}"
   ]
  },
  {
   "cell_type": "code",
   "execution_count": 128,
   "id": "3fe7e5a8",
   "metadata": {},
   "outputs": [
    {
     "data": {
      "text/plain": [
       "{'west': ['Osun', 'Ogun', 'Ekiti', 'Ondo', 'Sokoto'],\n",
       " 'North': ['Kano', 'Yola', 'Jalimgo', 'Maiduguri'],\n",
       " 'East': ['Enugu', 'abia', 'Delta', 'Rivers']}"
      ]
     },
     "execution_count": 128,
     "metadata": {},
     "output_type": "execute_result"
    }
   ],
   "source": [
    "Nigeria"
   ]
  },
  {
   "cell_type": "code",
   "execution_count": 129,
   "id": "3489002d",
   "metadata": {},
   "outputs": [],
   "source": [
    "Nigeria={}"
   ]
  },
  {
   "cell_type": "code",
   "execution_count": 130,
   "id": "fc5bafa2",
   "metadata": {},
   "outputs": [
    {
     "data": {
      "text/plain": [
       "{}"
      ]
     },
     "execution_count": 130,
     "metadata": {},
     "output_type": "execute_result"
    }
   ],
   "source": [
    "Nigeria"
   ]
  },
  {
   "cell_type": "code",
   "execution_count": 131,
   "id": "3f6f7759",
   "metadata": {},
   "outputs": [],
   "source": [
    "New_list = ['west', 'North', 'East']"
   ]
  },
  {
   "cell_type": "code",
   "execution_count": 135,
   "id": "c304b548",
   "metadata": {},
   "outputs": [],
   "source": [
    "Nigeria={}"
   ]
  },
  {
   "cell_type": "code",
   "execution_count": 137,
   "id": "ad8bccfd",
   "metadata": {},
   "outputs": [],
   "source": [
    "Nigeria[\"west\"]=west\n",
    "Nigeria[\"North\"]=North\n",
    "Nigeria[\"East\"]=East"
   ]
  },
  {
   "cell_type": "code",
   "execution_count": 138,
   "id": "9462aff7",
   "metadata": {},
   "outputs": [
    {
     "data": {
      "text/plain": [
       "{'west': ['Osun', 'Ogun', 'Ekiti', 'Ondo', 'Lagos'],\n",
       " 'North': ['Kano', 'Yola', 'Jalimgo', 'Maiduguri'],\n",
       " 'East': ['Enugu', 'abia', 'Delta', 'Rivers']}"
      ]
     },
     "execution_count": 138,
     "metadata": {},
     "output_type": "execute_result"
    }
   ],
   "source": [
    "Nigeria"
   ]
  },
  {
   "cell_type": "code",
   "execution_count": null,
   "id": "3bd9283b",
   "metadata": {},
   "outputs": [],
   "source": []
  }
 ],
 "metadata": {
  "kernelspec": {
   "display_name": "Python 3 (ipykernel)",
   "language": "python",
   "name": "python3"
  },
  "language_info": {
   "codemirror_mode": {
    "name": "ipython",
    "version": 3
   },
   "file_extension": ".py",
   "mimetype": "text/x-python",
   "name": "python",
   "nbconvert_exporter": "python",
   "pygments_lexer": "ipython3",
   "version": "3.11.5"
  }
 },
 "nbformat": 4,
 "nbformat_minor": 5
}
